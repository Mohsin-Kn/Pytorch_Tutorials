{
 "cells": [
  {
   "cell_type": "markdown",
   "id": "a080795a-cbb1-4a8f-bd94-a56a4eadf592",
   "metadata": {},
   "source": [
    "### 📂 PyTorch File Structure"
   ]
  },
  {
   "cell_type": "raw",
   "id": "bc351c01-37fd-4e47-bbdd-b9221e9f3c16",
   "metadata": {},
   "source": [
    "torch/\n",
    "│── __init__.py                 # Initializes the torch package\n",
    "│── _C/                         # C++ backend bindings (Compiled binaries)\n",
    "│── _ops/                       # Low-level operations\n",
    "│── _VF/                        # Variable functions (used in autograd)\n",
    "│── version.py                   # PyTorch version info\n",
    "│\n",
    "├── nn/                         # Neural network components (`torch.nn`)\n",
    "│   │── __init__.py              # Imports key modules into `torch.nn`\n",
    "│   │── functional.py            # Implements functions like F.relu(), F.softmax()\n",
    "│   │── init.py                  # Weight initialization functions\n",
    "│   │── parallel.py              # Multi-GPU utilities (`DataParallel`)\n",
    "│   │── modules/                 # Contains core neural network layers\n",
    "│   │   │── __init__.py          # Initializes `torch.nn.modules`\n",
    "│   │   │── module.py            # `nn.Module` base class\n",
    "│   │   │── linear.py            # `nn.Linear` implementation\n",
    "│   │   │── conv.py              # `nn.Conv1d`, `nn.Conv2d`, `nn.Conv3d`\n",
    "│   │   │── rnn.py               # `nn.RNN`, `nn.LSTM`, `nn.GRU`\n",
    "│   │   │── activation.py        # Activation functions (ReLU, Sigmoid, etc.)\n",
    "│   │   │── dropout.py           # Dropout layers (`nn.Dropout`)\n",
    "│   │   │── flatten.py           # `nn.Flatten` layer\n",
    "│   │   │── normalization.py     # BatchNorm, LayerNorm, etc.\n",
    "│   │   │── pooling.py           # MaxPool2d, AvgPool2d\n",
    "│   │   │── loss.py              # Loss functions (MSELoss, CrossEntropyLoss, etc.)\n",
    "│   │   │── container.py         # `nn.Sequential`, `nn.ModuleList`, etc.\n",
    "│   │   └── transformer.py       # Transformer layers\n",
    "│\n",
    "├── optim/                       # Optimizers (`torch.optim`)\n",
    "│   │── __init__.py              # Imports key optimizers\n",
    "│   │── adam.py                  # Adam optimizer\n",
    "│   │── sgd.py                   # SGD optimizer\n",
    "│   │── lr_scheduler.py          # Learning rate schedulers\n",
    "│\n",
    "├── autograd/                    # Autograd system (`torch.autograd`)\n",
    "│   │── __init__.py              # Initializes autograd\n",
    "│   │── grad_mode.py             # Gradient mode management\n",
    "│\n",
    "├── jit/                         # Just-In-Time (JIT) compiler (`torch.jit`)\n",
    "│   │── __init__.py              # Initializes TorchScript\n",
    "│   │── script.py                # TorchScript functionality\n",
    "│   │── trace.py                 # TorchScript tracing\n",
    "│\n",
    "├── cuda/                        # CUDA support (`torch.cuda`)\n",
    "│   │── __init__.py              # Initializes CUDA utilities\n",
    "│   │── amp/                     # Automatic Mixed Precision training\n",
    "│\n",
    "├── distributed/                 # Distributed computing (`torch.distributed`)\n",
    "│   │── __init__.py              # Initializes distributed computing\n",
    "│   │── rpc.py                   # Remote Procedure Calls (RPC)\n",
    "│   │── elastic/                 # Elastic training utilities\n",
    "│\n",
    "├── multiprocessing/              # Multiprocessing utilities (`torch.multiprocessing`)\n",
    "│\n",
    "├── tensor.py                     # Defines `torch.Tensor`\n",
    "│\n",
    "├── sparse/                       # Sparse tensor support (`torch.sparse`)\n",
    "│\n",
    "├── special/                      # Special mathematical functions (`torch.special`)\n",
    "│\n",
    "├── data/                         # Data utilities (`torch.utils.data`)\n",
    "│   │── __init__.py               # Initializes `torch.utils.data`\n",
    "│   │── dataloader.py             # DataLoader implementation\n",
    "│   │── dataset.py                # Dataset utilities\n",
    "│   │── sampler.py                # Sampler classes for batching\n",
    "│   └── distributed.py            # Distributed dataset utilities\n",
    "│\n",
    "├── utils/                        # General utility functions (`torch.utils`)\n",
    "│   │── __init__.py               # Initializes `torch.utils`\n",
    "│   │── checkpoint.py             # Implements model checkpointing\n",
    "│   │── data/                     # `torch.utils.data` (Dataloader, Dataset, etc.)\n",
    "│   │   │── __init__.py           # Initializes `torch.utils.data`\n",
    "│   │   │── dataloader.py         # DataLoader implementation\n",
    "│   │   │── dataset.py            # Base `Dataset` class\n",
    "│   │   │── sampler.py            # Sampler functions for batching\n",
    "│   │   └── distributed.py        # Data utilities for distributed training\n",
    "│   │── hooks.py                  # Hooks for debugging and profiling\n",
    "│   │── model_zoo.py              # Pretrained model loading\n",
    "│   │── tensorboard.py            # TensorBoard integration\n",
    "│   └── cpp_extension.py          # Compiling custom C++/CUDA extensions\n",
    "│\n",
    "└── __init__.py                   # Main PyTorch package initialization\n"
   ]
  },
  {
   "cell_type": "code",
   "execution_count": 95,
   "id": "39a454b6-26ef-40bc-9cda-0a2f7803a997",
   "metadata": {},
   "outputs": [],
   "source": [
    "import matplotlib.pyplot as plt\n",
    "from torch import nn\n",
    "from torch.nn import Module,Linear,Conv2d,CrossEntropyLoss\n",
    "from torch.utils.data import DataLoader\n",
    "from torchvision import datasets\n",
    "from torchvision.transforms import ToTensor"
   ]
  },
  {
   "cell_type": "code",
   "execution_count": 96,
   "id": "a5d9a442-516a-4e85-899f-54cc1c1afe9a",
   "metadata": {},
   "outputs": [],
   "source": [
    "training_data=datasets.FashionMNIST(root='data',train=True,transform=ToTensor(),download=True)\n",
    "\n",
    "# root is the path where the train/test data is stored,\n",
    "\n",
    "# train specifies training or test dataset,\n",
    "\n",
    "# download=True downloads the data from the internet if it’s not available at root.\n",
    "\n",
    "# transform and target_transform specify the feature and label transformations"
   ]
  },
  {
   "cell_type": "code",
   "execution_count": 97,
   "id": "73c023e1-621c-47dc-a242-eb5ba74f2c4a",
   "metadata": {},
   "outputs": [],
   "source": [
    "test_data=datasets.FashionMNIST(root='data',train=False,transform=ToTensor(),download=True)"
   ]
  },
  {
   "cell_type": "code",
   "execution_count": 98,
   "id": "219e4592-19e9-478a-aa8e-e923c011a7d5",
   "metadata": {},
   "outputs": [
    {
     "data": {
      "text/plain": [
       "Dataset FashionMNIST\n",
       "    Number of datapoints: 60000\n",
       "    Root location: data\n",
       "    Split: Train\n",
       "    StandardTransform\n",
       "Transform: ToTensor()"
      ]
     },
     "execution_count": 98,
     "metadata": {},
     "output_type": "execute_result"
    }
   ],
   "source": [
    "training_data"
   ]
  },
  {
   "cell_type": "code",
   "execution_count": 99,
   "id": "6f5cbaa5-f327-4e93-9720-5967f726ee05",
   "metadata": {},
   "outputs": [
    {
     "data": {
      "text/plain": [
       "Dataset FashionMNIST\n",
       "    Number of datapoints: 10000\n",
       "    Root location: data\n",
       "    Split: Test\n",
       "    StandardTransform\n",
       "Transform: ToTensor()"
      ]
     },
     "execution_count": 99,
     "metadata": {},
     "output_type": "execute_result"
    }
   ],
   "source": [
    "test_data"
   ]
  },
  {
   "cell_type": "markdown",
   "id": "365710db-5229-4fd8-bf53-c77426b14226",
   "metadata": {},
   "source": [
    "    DataLoader is a utility that helps load and batch datasets for training or evaluation.\n",
    "    It handles tasks like shuffling, batching, and parallel data loading, making it easier to iterate over datasets during training.\n",
    "    Example usage: If you have a dataset of images, DataLoader allows you to load small batches of images at a time instead of loading the entire dataset into memory.\n",
    "     "
   ]
  },
  {
   "cell_type": "code",
   "execution_count": 100,
   "id": "8095d2ad-2885-4065-b162-895a9c84ccfe",
   "metadata": {},
   "outputs": [],
   "source": [
    "train_dataloader=DataLoader(batch_size=64,dataset=training_data)\n",
    "test_dataloader=DataLoader(batch_size=64,dataset=test_data)"
   ]
  },
  {
   "cell_type": "code",
   "execution_count": 101,
   "id": "d0d4a1a4-2afb-4d5c-9fc6-93fce16ab7c9",
   "metadata": {},
   "outputs": [
    {
     "name": "stdout",
     "output_type": "stream",
     "text": [
      "Shape of X [N, C, H, W]: torch.Size([64, 1, 28, 28])\n",
      "Shape of y: torch.Size([64]) torch.int64\n"
     ]
    }
   ],
   "source": [
    "for X, y in test_dataloader:\n",
    "    print(f\"Shape of X [N, C, H, W]: {X.shape}\")\n",
    "    print(f\"Shape of y: {y.shape} {y.dtype}\")\n",
    "    break"
   ]
  },
  {
   "cell_type": "code",
   "execution_count": 102,
   "id": "00fa2f41-8f8a-4d4d-9e80-23bd8890dfd9",
   "metadata": {},
   "outputs": [
    {
     "data": {
      "image/png": "[encoded data removed]",
      "text/plain": [
       "<Figure size 800x800 with 9 Axes>"
      ]
     },
     "metadata": {},
     "output_type": "display_data"
    }
   ],
   "source": [
    "labels_map = {\n",
    "    0: \"T-Shirt\",\n",
    "    1: \"Trouser\",\n",
    "    2: \"Pullover\",\n",
    "    3: \"Dress\",\n",
    "    4: \"Coat\",\n",
    "    5: \"Sandal\",\n",
    "    6: \"Shirt\",\n",
    "    7: \"Sneaker\",\n",
    "    8: \"Bag\",\n",
    "    9: \"Ankle Boot\",\n",
    "}\n",
    "figure = plt.figure(figsize=(8, 8))\n",
    "cols, rows = 3, 3\n",
    "for i in range(1, cols * rows + 1):\n",
    "    sample_idx = torch.randint(len(training_data), size=(1,)).item()\n",
    "    img, label = training_data[sample_idx]\n",
    "    figure.add_subplot(rows, cols, i)\n",
    "    plt.title(labels_map[label])\n",
    "    plt.axis(\"off\")\n",
    "    plt.imshow(img.squeeze(), cmap=\"gray\")\n",
    "plt.show()"
   ]
  },
  {
   "cell_type": "markdown",
   "id": "022abd03-2b5e-4a21-8df9-9438f526d3c3",
   "metadata": {},
   "source": [
    "#### Create models"
   ]
  },
  {
   "cell_type": "code",
   "execution_count": 103,
   "id": "06cefa28-165f-4854-ba8d-9eb01ceb5b72",
   "metadata": {},
   "outputs": [
    {
     "name": "stdout",
     "output_type": "stream",
     "text": [
      "network(\n",
      "  (flatten): Flatten(start_dim=1, end_dim=-1)\n",
      "  (linear): Sequential(\n",
      "    (0): Linear(in_features=784, out_features=64, bias=True)\n",
      "    (1): ReLU()\n",
      "    (2): Linear(in_features=64, out_features=32, bias=True)\n",
      "    (3): ReLU()\n",
      "    (4): Linear(in_features=32, out_features=10, bias=True)\n",
      "  )\n",
      ")\n"
     ]
    }
   ],
   "source": [
    "class network(nn.Module):\n",
    "    def __init__(self): #Constructor method that initializes the layers of the network.\n",
    "        super().__init__() #Calls the constructor of Module, allowing PyTorch to track layers and parameters.\n",
    "        self.flatten=nn.Flatten() #Flattens a 2D image (28×28) into a 1D vector (784 values).\n",
    "        self.linear=nn.Sequential(\n",
    "            nn.Linear(28*28,64), #First Linear(28*28, 512): Takes 784 input features (28×28 pixels) and maps them to 64 \n",
    "            nn.ReLU(),\n",
    "            nn.Linear(64,32),\n",
    "            nn.ReLU(),\n",
    "            nn.Linear(32,10) #Final Linear(32, 10): Maps 32 neurons to 10 output neurons (for 10 classes: 0-9 digits).\n",
    "        )\n",
    "\n",
    "    def forward(self,x): #Defines how data flows through the network.\n",
    "        x=self.flatten(x) #converts 28×28 images into a flat 1D tensor.\n",
    "        logits=self.linear(x) #Passes the flattened input through the stacked layers.\n",
    "        return logits  #Returns logits, which are raw scores (before applying softmax).\n",
    "model=network()\n",
    "print(model)"
   ]
  },
  {
   "cell_type": "markdown",
   "id": "1ca3074f-2070-493c-a638-51e0b6e5a2bf",
   "metadata": {},
   "source": [
    "#### Optimizing the Model Parameters"
   ]
  },
  {
   "cell_type": "code",
   "execution_count": 104,
   "id": "a80ca912-3057-416b-82ba-074232f0e65b",
   "metadata": {},
   "outputs": [],
   "source": [
    "loss_func=nn.CrossEntropyLoss() \n",
    "#Defines the loss function used for classification tasks.\n",
    "#This combines Softmax + Negative Log-Likelihood Loss in one step.\n",
    "\n",
    "opt=torch.optim.SGD(model.parameters(),lr=0.001) \n",
    "# Uses Stochastic Gradient Descent (SGD) for optimization.\n",
    "# model.parameters() → Passes all trainable parameters of the model to the optimizer.\n",
    "# lr=1e-3 (0.001) → Sets the learning rate to 0.001"
   ]
  },
  {
   "cell_type": "code",
   "execution_count": 105,
   "id": "d7eb1622-fcca-4826-84f5-3f543acb565c",
   "metadata": {},
   "outputs": [
    {
     "data": {
      "text/plain": [
       "SGD (\n",
       "Parameter Group 0\n",
       "    dampening: 0\n",
       "    differentiable: False\n",
       "    foreach: None\n",
       "    fused: None\n",
       "    lr: 0.001\n",
       "    maximize: False\n",
       "    momentum: 0\n",
       "    nesterov: False\n",
       "    weight_decay: 0\n",
       ")"
      ]
     },
     "execution_count": 105,
     "metadata": {},
     "output_type": "execute_result"
    }
   ],
   "source": [
    "opt"
   ]
  },
  {
   "cell_type": "code",
   "execution_count": 106,
   "id": "0b00a42b-d309-46cb-be39-36b1e453baff",
   "metadata": {},
   "outputs": [],
   "source": [
    "def train (dataloadser , mdoel,loss_func,opt):\n",
    "    size=len(dataloadser.dataset)\n",
    "    model.train()\n",
    "    for batch , (X,y) in enumerate(dataloadser): \n",
    "        # Dataloader automatically loads a batch of samples from the dataset.\n",
    "        # batch is the index of the current batch.\n",
    "        # X contains a batch of input data (e.g., 64 images from MNIST).\n",
    "        # y contains the corresponding labels\n",
    "        \n",
    "        pred=model(X) #Forward pass (input X through the model)\n",
    "        loss=loss_func(pred,y) #Computes how far predictions are from the true labels\n",
    "\n",
    "    loss.backward() \n",
    "    # Performs backpropagation, computing gradients for all model parameters.\n",
    "    # Uses Automatic Differentiation (Autograd) in PyTorch.\n",
    "    # Stores gradients in parameter.grad (used in optimizer step).\n",
    "    \n",
    "    opt.step()\n",
    "    #Uses computed gradients to update model parameters.\n",
    "    # For SGD (Stochastic Gradient Descent):\n",
    "    # θ = θ - lr * gradient\n",
    "    # θ = Model parameters (weights & biases).\n",
    "    # lr = Learning rate (1e-3 here).\n",
    "    # gradient = Slope of loss function w.r.t. parameters.\n",
    "    \n",
    "    opt.zero_grad() \n",
    "    # Gradients accumulate by default in PyTorch (instead of overwriting).\n",
    "    # Without zero_grad(), gradients from previous batches add up.\n",
    "    # This would result in incorrect updates.\n",
    "    \n",
    "    if batch % 100 ==0:\n",
    "        loss,current=loss.item(),(batch+1) * len(X)\n",
    "        print(f\"loss: {loss:>7f}  [{current:>5d}/{size:>5d}]\")\n"
   ]
  },
  {
   "cell_type": "code",
   "execution_count": 107,
   "id": "042ac2c5-a897-4957-9a13-54ba9bb32146",
   "metadata": {},
   "outputs": [],
   "source": [
    "def test(dataloader,model,loss_func):\n",
    "    size=len(dataloader.dataset)\n",
    "    num_batches=len(dataloader)\n",
    "    \n",
    "    model.eval()\n",
    "    # Switches the model to evaluation mode (turns off dropout & batch normalization).\n",
    "    # Ensures stable performance during testing.\n",
    "    \n",
    "    test_loss,correct=0,0 #Initializes loss & correct predictions count.\n",
    "    \n",
    "    with torch.no_grad():\n",
    "        # Disables gradient tracking to reduce memory usage & speed up computation\n",
    "        # Since we don’t update model weights in testing, gradients are not needed.\n",
    "        \n",
    "        for X,y in dataloader:\n",
    "            pred=model(X)\n",
    "            test_loss +=loss_func(pred,y).item()\n",
    "            correct +=(pred.argmax(1) == y).type(torch.float).sum().item()\n",
    "            \n",
    "    test_loss /=num_batches #Averages total loss over all batches.\n",
    "\n",
    "    correct /= size #Computes the fraction of correct predictions.\n",
    "    print(f\"Test Error: \\n Accuracy: {(100*correct):>0.1f}%, Avg loss: {test_loss:>8f} \\n\")"
   ]
  },
  {
   "cell_type": "code",
   "execution_count": 108,
   "id": "4ba481bb-d469-4ea7-9bc7-4a7fb13a05f3",
   "metadata": {},
   "outputs": [
    {
     "name": "stdout",
     "output_type": "stream",
     "text": [
      "Epoch 1\n",
      "-------------------------------\n",
      "Test Error: \n",
      " Accuracy: 12.7%, Avg loss: 2.316048 \n",
      "\n",
      "Epoch 2\n",
      "-------------------------------\n",
      "Test Error: \n",
      " Accuracy: 12.7%, Avg loss: 2.315951 \n",
      "\n",
      "Epoch 3\n",
      "-------------------------------\n",
      "Test Error: \n",
      " Accuracy: 12.8%, Avg loss: 2.315854 \n",
      "\n",
      "Epoch 4\n",
      "-------------------------------\n",
      "Test Error: \n",
      " Accuracy: 12.8%, Avg loss: 2.315758 \n",
      "\n",
      "Epoch 5\n",
      "-------------------------------\n",
      "Test Error: \n",
      " Accuracy: 12.8%, Avg loss: 2.315662 \n",
      "\n",
      "Epoch 6\n",
      "-------------------------------\n",
      "Test Error: \n",
      " Accuracy: 12.8%, Avg loss: 2.315565 \n",
      "\n",
      "Epoch 7\n",
      "-------------------------------\n",
      "Test Error: \n",
      " Accuracy: 12.9%, Avg loss: 2.315469 \n",
      "\n",
      "Epoch 8\n",
      "-------------------------------\n",
      "Test Error: \n",
      " Accuracy: 12.9%, Avg loss: 2.315373 \n",
      "\n",
      "Epoch 9\n",
      "-------------------------------\n",
      "Test Error: \n",
      " Accuracy: 12.9%, Avg loss: 2.315277 \n",
      "\n",
      "Epoch 10\n",
      "-------------------------------\n",
      "Test Error: \n",
      " Accuracy: 12.9%, Avg loss: 2.315183 \n",
      "\n",
      "Epoch 11\n",
      "-------------------------------\n",
      "Test Error: \n",
      " Accuracy: 13.0%, Avg loss: 2.315091 \n",
      "\n",
      "Epoch 12\n",
      "-------------------------------\n",
      "Test Error: \n",
      " Accuracy: 13.1%, Avg loss: 2.315000 \n",
      "\n",
      "Epoch 13\n",
      "-------------------------------\n",
      "Test Error: \n",
      " Accuracy: 13.1%, Avg loss: 2.314909 \n",
      "\n",
      "Epoch 14\n",
      "-------------------------------\n",
      "Test Error: \n",
      " Accuracy: 13.2%, Avg loss: 2.314819 \n",
      "\n",
      "Epoch 15\n",
      "-------------------------------\n",
      "Test Error: \n",
      " Accuracy: 13.2%, Avg loss: 2.314731 \n",
      "\n",
      "Epoch 16\n",
      "-------------------------------\n",
      "Test Error: \n",
      " Accuracy: 13.2%, Avg loss: 2.314640 \n",
      "\n",
      "Epoch 17\n",
      "-------------------------------\n",
      "Test Error: \n",
      " Accuracy: 13.2%, Avg loss: 2.314550 \n",
      "\n",
      "Epoch 18\n",
      "-------------------------------\n",
      "Test Error: \n",
      " Accuracy: 13.2%, Avg loss: 2.314460 \n",
      "\n",
      "Epoch 19\n",
      "-------------------------------\n",
      "Test Error: \n",
      " Accuracy: 13.4%, Avg loss: 2.314373 \n",
      "\n",
      "Epoch 20\n",
      "-------------------------------\n",
      "Test Error: \n",
      " Accuracy: 13.4%, Avg loss: 2.314285 \n",
      "\n",
      "Epoch 21\n",
      "-------------------------------\n",
      "Test Error: \n",
      " Accuracy: 13.4%, Avg loss: 2.314198 \n",
      "\n",
      "Epoch 22\n",
      "-------------------------------\n",
      "Test Error: \n",
      " Accuracy: 13.4%, Avg loss: 2.314112 \n",
      "\n",
      "Epoch 23\n",
      "-------------------------------\n",
      "Test Error: \n",
      " Accuracy: 13.5%, Avg loss: 2.314030 \n",
      "\n",
      "Epoch 24\n",
      "-------------------------------\n",
      "Test Error: \n",
      " Accuracy: 13.5%, Avg loss: 2.313947 \n",
      "\n",
      "Epoch 25\n",
      "-------------------------------\n",
      "Test Error: \n",
      " Accuracy: 13.5%, Avg loss: 2.313864 \n",
      "\n",
      "Epoch 26\n",
      "-------------------------------\n",
      "Test Error: \n",
      " Accuracy: 13.5%, Avg loss: 2.313781 \n",
      "\n",
      "Epoch 27\n",
      "-------------------------------\n",
      "Test Error: \n",
      " Accuracy: 13.5%, Avg loss: 2.313700 \n",
      "\n",
      "Epoch 28\n",
      "-------------------------------\n",
      "Test Error: \n",
      " Accuracy: 13.5%, Avg loss: 2.313619 \n",
      "\n",
      "Epoch 29\n",
      "-------------------------------\n",
      "Test Error: \n",
      " Accuracy: 13.6%, Avg loss: 2.313537 \n",
      "\n",
      "Epoch 30\n",
      "-------------------------------\n",
      "Test Error: \n",
      " Accuracy: 13.6%, Avg loss: 2.313458 \n",
      "\n",
      "Epoch 31\n",
      "-------------------------------\n",
      "Test Error: \n",
      " Accuracy: 13.7%, Avg loss: 2.313380 \n",
      "\n",
      "Epoch 32\n",
      "-------------------------------\n",
      "Test Error: \n",
      " Accuracy: 13.7%, Avg loss: 2.313301 \n",
      "\n",
      "Epoch 33\n",
      "-------------------------------\n",
      "Test Error: \n",
      " Accuracy: 13.7%, Avg loss: 2.313222 \n",
      "\n",
      "Epoch 34\n",
      "-------------------------------\n",
      "Test Error: \n",
      " Accuracy: 13.8%, Avg loss: 2.313144 \n",
      "\n",
      "Epoch 35\n",
      "-------------------------------\n",
      "Test Error: \n",
      " Accuracy: 13.8%, Avg loss: 2.313066 \n",
      "\n",
      "Epoch 36\n",
      "-------------------------------\n",
      "Test Error: \n",
      " Accuracy: 13.8%, Avg loss: 2.312988 \n",
      "\n",
      "Epoch 37\n",
      "-------------------------------\n",
      "Test Error: \n",
      " Accuracy: 13.9%, Avg loss: 2.312913 \n",
      "\n",
      "Epoch 38\n",
      "-------------------------------\n",
      "Test Error: \n",
      " Accuracy: 13.9%, Avg loss: 2.312837 \n",
      "\n",
      "Epoch 39\n",
      "-------------------------------\n",
      "Test Error: \n",
      " Accuracy: 13.9%, Avg loss: 2.312761 \n",
      "\n",
      "Epoch 40\n",
      "-------------------------------\n",
      "Test Error: \n",
      " Accuracy: 13.9%, Avg loss: 2.312686 \n",
      "\n",
      "Epoch 41\n",
      "-------------------------------\n",
      "Test Error: \n",
      " Accuracy: 14.0%, Avg loss: 2.312612 \n",
      "\n",
      "Epoch 42\n",
      "-------------------------------\n",
      "Test Error: \n",
      " Accuracy: 14.0%, Avg loss: 2.312540 \n",
      "\n",
      "Epoch 43\n",
      "-------------------------------\n",
      "Test Error: \n",
      " Accuracy: 14.0%, Avg loss: 2.312466 \n",
      "\n",
      "Epoch 44\n",
      "-------------------------------\n",
      "Test Error: \n",
      " Accuracy: 14.0%, Avg loss: 2.312392 \n",
      "\n",
      "Epoch 45\n",
      "-------------------------------\n",
      "Test Error: \n",
      " Accuracy: 14.1%, Avg loss: 2.312318 \n",
      "\n",
      "Epoch 46\n",
      "-------------------------------\n",
      "Test Error: \n",
      " Accuracy: 14.1%, Avg loss: 2.312244 \n",
      "\n",
      "Epoch 47\n",
      "-------------------------------\n",
      "Test Error: \n",
      " Accuracy: 14.1%, Avg loss: 2.312173 \n",
      "\n",
      "Epoch 48\n",
      "-------------------------------\n",
      "Test Error: \n",
      " Accuracy: 14.1%, Avg loss: 2.312103 \n",
      "\n",
      "Epoch 49\n",
      "-------------------------------\n",
      "Test Error: \n",
      " Accuracy: 14.1%, Avg loss: 2.312031 \n",
      "\n",
      "Epoch 50\n",
      "-------------------------------\n",
      "Test Error: \n",
      " Accuracy: 14.1%, Avg loss: 2.311961 \n",
      "\n",
      "Done!!\n"
     ]
    }
   ],
   "source": [
    "epochs=50\n",
    "for t in range(epochs):\n",
    "    print(f\"Epoch {t+1}\\n-------------------------------\")\n",
    "    train(train_dataloader,model,loss_func,opt)\n",
    "    test(test_dataloader,model,loss_func)\n",
    "print(\"Done!!\")"
   ]
  },
  {
   "cell_type": "markdown",
   "id": "c2f4fd04-0593-48d4-b8f3-ba5777145c22",
   "metadata": {},
   "source": [
    "#### Saving Models"
   ]
  },
  {
   "cell_type": "code",
   "execution_count": 110,
   "id": "b6a3abe1-9b92-4b58-9adf-06d16eaa90e5",
   "metadata": {},
   "outputs": [],
   "source": [
    "torch.save(model.state_dict(),\"model.pth\")"
   ]
  },
  {
   "cell_type": "code",
   "execution_count": 112,
   "id": "9eeb8037-a1e4-4329-8880-f1cb326e2d9c",
   "metadata": {},
   "outputs": [
    {
     "data": {
      "text/plain": [
       "<All keys matched successfully>"
      ]
     },
     "execution_count": 112,
     "metadata": {},
     "output_type": "execute_result"
    }
   ],
   "source": [
    "model=network()\n",
    "model.load_state_dict(torch.load(\"model.pth\",weights_only=True))"
   ]
  },
  {
   "cell_type": "code",
   "execution_count": 113,
   "id": "5ac8edde-26a2-49fb-bc03-48d1a6338078",
   "metadata": {},
   "outputs": [
    {
     "data": {
      "text/plain": [
       "network(\n",
       "  (flatten): Flatten(start_dim=1, end_dim=-1)\n",
       "  (linear): Sequential(\n",
       "    (0): Linear(in_features=784, out_features=64, bias=True)\n",
       "    (1): ReLU()\n",
       "    (2): Linear(in_features=64, out_features=32, bias=True)\n",
       "    (3): ReLU()\n",
       "    (4): Linear(in_features=32, out_features=10, bias=True)\n",
       "  )\n",
       ")"
      ]
     },
     "execution_count": 113,
     "metadata": {},
     "output_type": "execute_result"
    }
   ],
   "source": [
    "model"
   ]
  },
  {
   "cell_type": "code",
   "execution_count": 126,
   "id": "078216cc-5677-4592-b5e4-74280a3d790e",
   "metadata": {},
   "outputs": [
    {
     "name": "stdout",
     "output_type": "stream",
     "text": [
      "Predicted: \"Bag\", Actual: \"Ankle boot\"\n"
     ]
    }
   ],
   "source": [
    "#use this model to make predictions\n",
    "\n",
    "classes = [\n",
    "    \"T-shirt/top\",\n",
    "    \"Trouser\",\n",
    "    \"Pullover\",\n",
    "    \"Dress\",\n",
    "    \"Coat\",\n",
    "    \"Sandal\",\n",
    "    \"Shirt\",\n",
    "    \"Sneaker\",\n",
    "    \"Bag\",\n",
    "    \"Ankle boot\",\n",
    "]\n",
    "\n",
    "x, y = test_data[0][0], test_data[0][1]\n",
    "with torch.no_grad():\n",
    "    pred = model(x)\n",
    "    predicted, actual = classes[pred[0].argmax(0)], classes[y]\n",
    "    print(f'Predicted: \"{predicted}\", Actual: \"{actual}\"')"
   ]
  },
  {
   "cell_type": "code",
   "execution_count": null,
   "id": "3508a28b-db7e-40a8-8296-81b993d12f08",
   "metadata": {},
   "outputs": [],
   "source": []
  },
  {
   "cell_type": "code",
   "execution_count": 128,
   "id": "7909545a-d3f9-4e0c-9b1b-66c5f5877ee8",
   "metadata": {},
   "outputs": [
    {
     "name": "stdout",
     "output_type": "stream",
     "text": [
      "Predicted class: tensor([6])\n"
     ]
    }
   ],
   "source": [
    "X = torch.rand(1, 28, 28)\n",
    "logits = model(X)\n",
    "pred_probab = nn.Softmax(dim=1)(logits)\n",
    "y_pred = pred_probab.argmax(1)\n",
    "print(f\"Predicted class: {y_pred}\")"
   ]
  },
  {
   "cell_type": "code",
   "execution_count": 129,
   "id": "383b739b-5883-47d5-a31e-b8aecb6e5736",
   "metadata": {},
   "outputs": [
    {
     "name": "stdout",
     "output_type": "stream",
     "text": [
      "Model structure: network(\n",
      "  (flatten): Flatten(start_dim=1, end_dim=-1)\n",
      "  (linear): Sequential(\n",
      "    (0): Linear(in_features=784, out_features=64, bias=True)\n",
      "    (1): ReLU()\n",
      "    (2): Linear(in_features=64, out_features=32, bias=True)\n",
      "    (3): ReLU()\n",
      "    (4): Linear(in_features=32, out_features=10, bias=True)\n",
      "  )\n",
      ")\n",
      "\n",
      "\n",
      "Layer: linear.0.weight | Size: torch.Size([64, 784]) | Values : tensor([[ 1.8002e-02,  1.5766e-02, -1.9723e-02,  ..., -5.2397e-03,\n",
      "          3.1212e-02,  2.8276e-03],\n",
      "        [-2.7929e-05, -4.3428e-03,  6.6941e-04,  ..., -2.2708e-03,\n",
      "          2.0093e-02, -1.5591e-02]], grad_fn=<SliceBackward0>) \n",
      "\n",
      "Layer: linear.0.bias | Size: torch.Size([64]) | Values : tensor([ 0.0229, -0.0217], grad_fn=<SliceBackward0>) \n",
      "\n",
      "Layer: linear.2.weight | Size: torch.Size([32, 64]) | Values : tensor([[-0.0483, -0.0520, -0.0023,  0.0112, -0.1182,  0.0604,  0.1185, -0.0505,\n",
      "          0.0380, -0.0149, -0.0955, -0.0229,  0.0159,  0.1229,  0.1026,  0.0921,\n",
      "          0.0602,  0.0735, -0.0821, -0.0583, -0.0813,  0.1106,  0.0759, -0.0262,\n",
      "          0.0004,  0.1210, -0.0761, -0.0092, -0.0611,  0.1111, -0.0324,  0.1122,\n",
      "         -0.1180, -0.0960, -0.0432, -0.1058, -0.1007,  0.0854,  0.0290, -0.0725,\n",
      "          0.0492, -0.0378, -0.1203, -0.0969,  0.0837, -0.0895, -0.0797, -0.0846,\n",
      "          0.1059, -0.1174,  0.0487,  0.0812,  0.0191, -0.0680,  0.0185, -0.1174,\n",
      "         -0.0115, -0.0879,  0.0928,  0.0661,  0.1053, -0.0683,  0.0804,  0.0896],\n",
      "        [ 0.0279,  0.0998,  0.0494, -0.0844,  0.1066,  0.0530, -0.0436, -0.0638,\n",
      "          0.1103, -0.0727, -0.0402,  0.0262,  0.0289,  0.0295, -0.0424,  0.1238,\n",
      "          0.0335,  0.0490,  0.0330,  0.0840, -0.0396,  0.1236, -0.0562,  0.0875,\n",
      "          0.0409,  0.0308,  0.1230,  0.0400,  0.0761, -0.1149,  0.0227,  0.0125,\n",
      "         -0.0499, -0.1162, -0.0664, -0.0152, -0.0564, -0.0870, -0.0213, -0.0671,\n",
      "          0.0243, -0.0275,  0.0635,  0.0196, -0.0334,  0.1057, -0.0168,  0.0452,\n",
      "         -0.1097,  0.0763, -0.0010, -0.0212,  0.0156,  0.1004,  0.0271,  0.0408,\n",
      "          0.0728, -0.0829, -0.0162, -0.0560,  0.0622, -0.0144,  0.0038,  0.0056]],\n",
      "       grad_fn=<SliceBackward0>) \n",
      "\n",
      "Layer: linear.2.bias | Size: torch.Size([32]) | Values : tensor([0.0793, 0.0006], grad_fn=<SliceBackward0>) \n",
      "\n",
      "Layer: linear.4.weight | Size: torch.Size([10, 32]) | Values : tensor([[-0.1611, -0.0491,  0.1563,  0.1759,  0.0883,  0.0353,  0.0249,  0.0187,\n",
      "          0.0062,  0.1429,  0.1000,  0.1112, -0.1660,  0.0825,  0.0878, -0.0655,\n",
      "         -0.1517, -0.0132, -0.0696,  0.1531,  0.1409, -0.1565,  0.0193,  0.0019,\n",
      "          0.0513,  0.1609, -0.0637, -0.1586, -0.0061, -0.1512, -0.1220,  0.1711],\n",
      "        [-0.0221, -0.0706, -0.0448, -0.0850,  0.0056, -0.1139,  0.1081, -0.1449,\n",
      "         -0.1090,  0.0023,  0.1205, -0.1487, -0.1075,  0.0520,  0.1667,  0.0139,\n",
      "          0.1696,  0.0666,  0.1705,  0.0878,  0.1019,  0.0792, -0.0400, -0.0031,\n",
      "         -0.0345, -0.1237,  0.0783, -0.1194,  0.1550, -0.0819, -0.1542, -0.0428]],\n",
      "       grad_fn=<SliceBackward0>) \n",
      "\n",
      "Layer: linear.4.bias | Size: torch.Size([10]) | Values : tensor([-0.1322,  0.1372], grad_fn=<SliceBackward0>) \n",
      "\n"
     ]
    }
   ],
   "source": [
    "print(f\"Model structure: {model}\\n\\n\")\n",
    "\n",
    "for name, param in model.named_parameters():\n",
    "    print(f\"Layer: {name} | Size: {param.size()} | Values : {param[:2]} \\n\")"
   ]
  },
  {
   "cell_type": "code",
   "execution_count": null,
   "id": "9813e525-79de-4202-b50d-18815b5ebb7a",
   "metadata": {},
   "outputs": [],
   "source": []
  }
 ],
 "metadata": {
  "kernelspec": {
   "display_name": "Python 3 (ipykernel)",
   "language": "python",
   "name": "python3"
  },
  "language_info": {
   "codemirror_mode": {
    "name": "ipython",
    "version": 3
   },
   "file_extension": ".py",
   "mimetype": "text/x-python",
   "name": "python",
   "nbconvert_exporter": "python",
   "pygments_lexer": "ipython3",
   "version": "3.12.3"
  }
 },
 "nbformat": 4,
 "nbformat_minor": 5
}
